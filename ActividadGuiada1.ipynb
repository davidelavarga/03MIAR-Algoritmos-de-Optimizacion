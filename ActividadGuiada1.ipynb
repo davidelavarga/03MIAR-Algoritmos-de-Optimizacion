{
  "nbformat": 4,
  "nbformat_minor": 0,
  "metadata": {
    "colab": {
      "provenance": [],
      "authorship_tag": "ABX9TyOK08aDMK0GOeqIE9cCx+6S",
      "include_colab_link": true
    },
    "kernelspec": {
      "name": "python3",
      "display_name": "Python 3"
    },
    "language_info": {
      "name": "python"
    }
  },
  "cells": [
    {
      "cell_type": "markdown",
      "metadata": {
        "id": "view-in-github",
        "colab_type": "text"
      },
      "source": [
        "<a href=\"https://colab.research.google.com/github/davidelavarga/03MIAR-Algoritmos-de-Optimizacion/blob/main/ActividadGuiada1.ipynb\" target=\"_parent\"><img src=\"https://colab.research.google.com/assets/colab-badge.svg\" alt=\"Open In Colab\"/></a>"
      ]
    },
    {
      "cell_type": "markdown",
      "source": [
        "Nombre: David de la Varga del Caño\n",
        "\n",
        "https://colab.research.google.com/drive/1fi7hEhwQ-72afYq3Bx6wwRskIcDLnyKI?usp=sharing\n",
        "\n",
        "https://github.com/davidelavarga/03MIAR-Algoritmos-de-Optimizacion/blob/main/ActividadGuiada1.ipynb"
      ],
      "metadata": {
        "id": "ZeKiu5DbQm6U"
      }
    },
    {
      "cell_type": "code",
      "source": [
        "# Torres de Hanoi - Divide y venceras\n",
        "def torres_hanoi(n, src, dst):\n",
        "  # n: numero de fichas\n",
        "  # desde: torre inicial\n",
        "  # hasta: torre final\n",
        "  if n == 1:\n",
        "    print(f\"Mueve la ficha de la columna {src} hasta la {dst}\")\n",
        "  else:\n",
        "    pivot = 6 - dst - src\n",
        "    torres_hanoi(n-1, src, pivot)\n",
        "    print(f\"Mueve la ficha de la columna {src} hasta la {dst}\")\n",
        "    torres_hanoi(n-1, pivot, dst)\n",
        "\n",
        "torres_hanoi(3, 1, 3)"
      ],
      "metadata": {
        "colab": {
          "base_uri": "https://localhost:8080/"
        },
        "id": "Cf_jSwj8RMcp",
        "outputId": "4a7dc362-9a53-44b1-ab33-50e532a13af8"
      },
      "execution_count": null,
      "outputs": [
        {
          "output_type": "stream",
          "name": "stdout",
          "text": [
            "Mueve la ficha de la columna 1 hasta la 3\n",
            "Mueve la ficha de la columna 1 hasta la 2\n",
            "Mueve la ficha de la columna 3 hasta la 2\n",
            "Mueve la ficha de la columna 1 hasta la 3\n",
            "Mueve la ficha de la columna 2 hasta la 1\n",
            "Mueve la ficha de la columna 2 hasta la 3\n",
            "Mueve la ficha de la columna 1 hasta la 3\n"
          ]
        }
      ]
    },
    {
      "cell_type": "code",
      "source": [
        "# Cambio de monedas - Tecnica voraz\n",
        "def cambio_monedas(cantidad, sistema):\n",
        "  # cantidad a cambiar\n",
        "  # sistema: valor de las monedas diferente, ordenado de mayor valor a menor\n",
        "  solucion = {}\n",
        "  for v in sistema:\n",
        "    monedas = cantidad // v\n",
        "    solucion[v] = monedas\n",
        "    cantidad -= monedas * v\n",
        "\n",
        "    if cantidad == 0:\n",
        "      return solucion\n",
        "  \n",
        "sistema = [10, 5, 2, 1]\n",
        "cambio_monedas(23, sistema)"
      ],
      "metadata": {
        "id": "gIqLySEGcgeT"
      },
      "execution_count": null,
      "outputs": []
    },
    {
      "cell_type": "code",
      "source": [
        "# N reinas - Backtraking\n",
        "def solucion_pacial(solucion, etapa):\n",
        "  for i in range(etapa+1):\n",
        "    # Comprobamos si en la solucion parcial esta la misma reina en la fila\n",
        "    if solucion.count(solucion[i]) > 1:\n",
        "      return False\n",
        "\n",
        "    # Comprobamos reinas en la diagonal\n",
        "    for j in range(i+1, etapa+1):\n",
        "      if abs(i-j) == abs(solucion[i]-solucion[j]) : return False\n",
        "  return True\n",
        "\n",
        "def escribe_solucion(solucion):\n",
        "    # Por cada fila escribimos un X si es la posicion de la reina, sino -\n",
        "    n = len(solucion)\n",
        "    for x in range(n):\n",
        "        for i in range(n):\n",
        "            if solucion[i] == x+1:\n",
        "                print(\" X \", end=\"\")\n",
        "            else:\n",
        "                print(\" - \", end=\"\")\n",
        "        print(\"\")\n",
        "    print(\"\\n\")\n",
        "\n",
        "def n_reinas(n, solucion, etapa, show_solution=True):\n",
        "    # Inicializamos una solucion con todo 0\n",
        "    if not solucion:\n",
        "        solucion = [0 for i in range(n)]\n",
        "    \n",
        "    # Por cada reina probamos una posicion en el tablero, si encontramos una solucion la mostramos\n",
        "    for i in range(1, n+1):\n",
        "        solucion[etapa] = i\n",
        "        if solucion_pacial(solucion, etapa):\n",
        "            if etapa == n-1:\n",
        "                if show_solution:\n",
        "                    escribe_solucion(solucion)\n",
        "                else:\n",
        "                    print(solucion)\n",
        "            else:  \n",
        "                n_reinas(n, solucion, etapa+1)\n",
        "    solucion[etapa] = 0\n",
        "\n",
        "n_reinas(4, [], 0, True)\n",
        "  \n",
        "  "
      ],
      "metadata": {
        "colab": {
          "base_uri": "https://localhost:8080/"
        },
        "id": "eomQCWVFeqmt",
        "outputId": "d844b166-b7e7-4353-8fcd-5d15ddb3a0b7"
      },
      "execution_count": 7,
      "outputs": [
        {
          "output_type": "stream",
          "name": "stdout",
          "text": [
            " -  -  X  - \n",
            " X  -  -  - \n",
            " -  -  -  X \n",
            " -  X  -  - \n",
            "\n",
            "\n",
            " -  X  -  - \n",
            " -  -  -  X \n",
            " X  -  -  - \n",
            " -  -  X  - \n",
            "\n",
            "\n"
          ]
        }
      ]
    }
  ]
}