{
  "nbformat": 4,
  "nbformat_minor": 0,
  "metadata": {
    "colab": {
      "provenance": [],
      "authorship_tag": "ABX9TyMsD6X24JE5iI6rpnyjimFf",
      "include_colab_link": true
    },
    "kernelspec": {
      "name": "python3",
      "display_name": "Python 3"
    },
    "language_info": {
      "name": "python"
    }
  },
  "cells": [
    {
      "cell_type": "markdown",
      "metadata": {
        "id": "view-in-github",
        "colab_type": "text"
      },
      "source": [
        "<a href=\"https://colab.research.google.com/github/davidelavarga/03MIAR-Algoritmos-de-Optimizacion/blob/main/ActividadGuiada1.ipynb\" target=\"_parent\"><img src=\"https://colab.research.google.com/assets/colab-badge.svg\" alt=\"Open In Colab\"/></a>"
      ]
    },
    {
      "cell_type": "markdown",
      "source": [
        "Nombre: David de la Varga del Caño\n",
        "\n",
        "https://colab.research.google.com/drive/1fi7hEhwQ-72afYq3Bx6wwRskIcDLnyKI?usp=sharing\n",
        "\n",
        "https://github.com/davidelavarga/03MIAR-Algoritmos-de-Optimizacion/blob/main/ActividadGuiada1.ipynb"
      ],
      "metadata": {
        "id": "ZeKiu5DbQm6U"
      }
    },
    {
      "cell_type": "code",
      "source": [
        "# Torres de Hanoi - Divide y venceras\n",
        "def torres_hanoi(n, src, dst):\n",
        "  # n: numero de fichas\n",
        "  # desde: torre inicial\n",
        "  # hasta: torre final\n",
        "  if n == 1:\n",
        "    print(f\"Mueve la ficha de la columna {src} hasta la {dst}\")\n",
        "  else:\n",
        "    pivot = 6 - dst - src\n",
        "    torres_hanoi(n-1, src, pivot)\n",
        "    print(f\"Mueve la ficha de la columna {src} hasta la {dst}\")\n",
        "    torres_hanoi(n-1, pivot, dst)\n",
        "\n",
        "torres_hanoi(3, 1, 3)"
      ],
      "metadata": {
        "colab": {
          "base_uri": "https://localhost:8080/"
        },
        "id": "Cf_jSwj8RMcp",
        "outputId": "9bb6f1b5-5c0e-4845-afca-c981ea3eff94"
      },
      "execution_count": 1,
      "outputs": [
        {
          "output_type": "stream",
          "name": "stdout",
          "text": [
            "Mueve la ficha de la columna 1 hasta la 3\n",
            "Mueve la ficha de la columna 1 hasta la 2\n",
            "Mueve la ficha de la columna 3 hasta la 2\n",
            "Mueve la ficha de la columna 1 hasta la 3\n",
            "Mueve la ficha de la columna 2 hasta la 1\n",
            "Mueve la ficha de la columna 2 hasta la 3\n",
            "Mueve la ficha de la columna 1 hasta la 3\n"
          ]
        }
      ]
    },
    {
      "cell_type": "code",
      "source": [
        "# Cambio de monedas - Tecnica voraz\n",
        "def cambio_monedas(cantidad, sistema):\n",
        "  # cantidad a cambiar\n",
        "  # sistema: valor de las monedas diferente, ordenado de mayor valor a menor\n",
        "  solucion = {}\n",
        "  for v in sistema:\n",
        "    monedas = cantidad // v\n",
        "    solucion[v] = monedas\n",
        "    cantidad -= monedas * v\n",
        "\n",
        "    if cantidad == 0:\n",
        "      return solucion\n",
        "  \n",
        "sistema = [10, 5, 2, 1]\n",
        "cambio_monedas(23, sistema)"
      ],
      "metadata": {
        "id": "gIqLySEGcgeT",
        "outputId": "a6c32075-0a2e-4b5e-d488-f3906d9fc9b4",
        "colab": {
          "base_uri": "https://localhost:8080/"
        }
      },
      "execution_count": 2,
      "outputs": [
        {
          "output_type": "execute_result",
          "data": {
            "text/plain": [
              "{10: 2, 5: 0, 2: 1, 1: 1}"
            ]
          },
          "metadata": {},
          "execution_count": 2
        }
      ]
    },
    {
      "cell_type": "code",
      "source": [
        "# N reinas - Backtraking\n",
        "def solucion_pacial(solucion, etapa):\n",
        "  for i in range(etapa+1):\n",
        "    # Comprobamos si en la solucion parcial esta la misma reina en la fila\n",
        "    if solucion.count(solucion[i]) > 1:\n",
        "      return False\n",
        "\n",
        "    # Comprobamos reinas en la diagonal\n",
        "    for j in range(i+1, etapa+1):\n",
        "      if abs(i-j) == abs(solucion[i]-solucion[j]) : return False\n",
        "  return True\n",
        "\n",
        "def escribe_solucion(solucion):\n",
        "    # Por cada fila escribimos un X si es la posicion de la reina, sino -\n",
        "    n = len(solucion)\n",
        "    for x in range(n):\n",
        "        for i in range(n):\n",
        "            if solucion[i] == x+1:\n",
        "                print(\" X \", end=\"\")\n",
        "            else:\n",
        "                print(\" - \", end=\"\")\n",
        "        print(\"\")\n",
        "    print(\"\\n\")\n",
        "\n",
        "def n_reinas(n, solucion, etapa, show_solution=True):\n",
        "    # Inicializamos una solucion con todo 0\n",
        "    if not solucion:\n",
        "        solucion = [0 for i in range(n)]\n",
        "    \n",
        "    # Por cada reina probamos una posicion en el tablero, si encontramos una solucion la mostramos\n",
        "    for i in range(1, n+1):\n",
        "        solucion[etapa] = i\n",
        "        if solucion_pacial(solucion, etapa):\n",
        "            if etapa == n-1:\n",
        "                if show_solution:\n",
        "                    escribe_solucion(solucion)\n",
        "                else:\n",
        "                    print(solucion)\n",
        "            else:  \n",
        "                n_reinas(n, solucion, etapa+1)\n",
        "    solucion[etapa] = 0\n",
        "\n",
        "n_reinas(4, [], 0, True)\n",
        "  \n",
        "  "
      ],
      "metadata": {
        "colab": {
          "base_uri": "https://localhost:8080/"
        },
        "id": "eomQCWVFeqmt",
        "outputId": "c1c12b12-f041-4159-a15a-182d3ec6ae15"
      },
      "execution_count": 3,
      "outputs": [
        {
          "output_type": "stream",
          "name": "stdout",
          "text": [
            " -  -  X  - \n",
            " X  -  -  - \n",
            " -  -  -  X \n",
            " -  X  -  - \n",
            "\n",
            "\n",
            " -  X  -  - \n",
            " -  -  -  X \n",
            " X  -  -  - \n",
            " -  -  X  - \n",
            "\n",
            "\n"
          ]
        }
      ]
    },
    {
      "cell_type": "markdown",
      "source": [
        "## Fuerza bruta\n",
        "El primer intento por fueza bruta con la funcion *closest_points_1d_brute_force(points)* compara todos con todos los puntos de la lista, a pesar de la optimización (comparar con los i+1 próximos numeros) el algoritmo tiene una complejidad de **O(n^2)**\n",
        "\n",
        "Con la optimización propuesta pasamos de n^2 comparaciones a (n(n+1))/2 comparaciones. Es una mejora pero el orden sigue siendo O(n^2)\n",
        "\n",
        "El algoritmo de fuerza bruta se puede mejorar hasta O(nlogn) si ordenamos la lista de entrada con un algoritmo con el mismo orden y comparamos cada valor con el previo. Sirviéndonos de las ventajas de python (sorted y zip) *closest_points_1d_brute_force_plus(points)* tiene una complejidad de **O(nlogn)**"
      ],
      "metadata": {
        "id": "cEyQ0wSsKJ54"
      }
    },
    {
      "cell_type": "code",
      "source": [
        "# 2 Puntos más cercanos\n",
        "## Fuerza bruta\n",
        "import random\n",
        "import math\n",
        "\n",
        "def closest_points_1d_brute_force(points):\n",
        "    if len(points) < 2:\n",
        "        return -1\n",
        "\n",
        "    # Inizializamos dos puntos y una distancia minima dodne guardaremos el resultado\n",
        "    x, y, min_dis = 0, 0, math.inf\n",
        "    for idx, i in enumerate(points):\n",
        "        # Como la distancia es la misma de i -> j que de j -> i solo necesitamos comparar con\n",
        "        # los i+1 próximos números, por cada iteración nos ahorramos i comparaciones\n",
        "        for j in points[idx+1:]:\n",
        "            current_dis = abs(i - j)\n",
        "            # Comparamos todos los puntos con todos exceptuando si son el mismo punto\n",
        "            if i != j and current_dis < min_dis:\n",
        "                x, y, min_dis = i, j, current_dis\n",
        "  \n",
        "    return x, y, min_dis\n",
        "\n",
        "lista_1d = [random.randrange(1, 10000) for i in range(1000)]\n",
        "print(closest_points_1d_brute_force(lista_1d))"
      ],
      "metadata": {
        "colab": {
          "base_uri": "https://localhost:8080/"
        },
        "id": "V0XcUTry_pcA",
        "outputId": "fd5abd8e-5192-4976-ea30-d37ed91b5d2d"
      },
      "execution_count": 4,
      "outputs": [
        {
          "output_type": "stream",
          "name": "stdout",
          "text": [
            "(8055, 8056, 1)\n"
          ]
        }
      ]
    },
    {
      "cell_type": "code",
      "source": [
        "# Mejora del algoritmo de fuerza bruta\n",
        "def closest_points_1d_brute_force_plus(points):\n",
        "    sorted_points = sorted(points)\n",
        "    return min(abs(prev - cur) for cur, prev in zip(sorted_points, sorted_points[1:]))\n",
        "\n",
        "lista_1d = [random.randrange(1, 10000) for i in range(1000)]\n",
        "print(closest_points_1d_brute_force_plus(lista_1d))"
      ],
      "metadata": {
        "id": "mjXQfgagNNbh",
        "outputId": "c1ef7d4c-a9c3-4a0b-fe43-f874faabdd69",
        "colab": {
          "base_uri": "https://localhost:8080/"
        }
      },
      "execution_count": 5,
      "outputs": [
        {
          "output_type": "stream",
          "name": "stdout",
          "text": [
            "0\n"
          ]
        }
      ]
    },
    {
      "cell_type": "markdown",
      "source": [
        "## Divide y vencerás\n",
        "Vamos a aplicar divide y vencerás al problema. Para ello dada la lista de n elementos dividimos el problema a dos listas de n/2 elementos. Aplicamos el algoritmo para los elementos del 0 al n/2 -1 y luego para los n/2 hasta n.\n",
        "\n",
        "Cuando tenemos una división sufucientemente pequeña para aplicar fuerza bruta (longitud <= 3) sin penalizar el rendimiento, resolvemos con fuerza bruta para cada sub-lista.\n",
        "\n",
        "Por ultimo, dada la división, nos falta comprobar la distancia entre el elemento n/2 - 1 al n/2 y seleccionar la minima distancia.\n",
        "\n",
        "El algoritmo tiene un orden de **O(nlogn)** para una dimensión."
      ],
      "metadata": {
        "id": "rcwWHe0zQkQs"
      }
    },
    {
      "cell_type": "code",
      "source": [
        "# 2 Puntos más cercanos\n",
        "## Divide y vencerás\n",
        "\n",
        "def closest_points_divide(points):\n",
        "    # Ordenamos por fuerza bruta cuando tenemos la menor lista\n",
        "    if len(points) <= 3:\n",
        "        return closest_points_1d_brute_force(points)\n",
        "    \n",
        "    # Divimos la lista por dos y volvemos a llamar a la funcion con las dos mitades\n",
        "    mid = len(points)//2\n",
        "    x1, y1, dist_left = closest_points_divide(points[:mid])\n",
        "    x2, y2, dist_right = closest_points_divide(points[mid:])\n",
        "    \n",
        "    # Almaceno en un diccionario la distancia y los puntos que corresponden a la misma\n",
        "    result = {\n",
        "        dist_left: (x1, y1),\n",
        "        dist_right: (x2, y2),\n",
        "    }\n",
        "    # Dada la division de la lista points[:mid], points[mid:]. Falta comprobar\n",
        "    # la distancia entre los puntos mid-1 y mid, lo excluimos en caso de ser puntos iguales\n",
        "    mid_dist = abs(points[mid-1] - points[mid])\n",
        "    if mid_dist != 0:\n",
        "        result[mid_dist] = (mid-1, mid)\n",
        "    \n",
        "    # El resultado es el minimo de las claves del diccionario con sus puntos x e y como valores\n",
        "    min_dist = min(result.keys())\n",
        "    x, y = result[min_dist]\n",
        "    return x, y, min_dist\n",
        "\n",
        "\n",
        "\n",
        "def closest_points_1d_divide_and_conquer(points):\n",
        "    # Ordenamos los puntos\n",
        "    points = sorted(points)\n",
        "    return closest_points_divide(points)\n",
        "\n",
        "lista_1d = [random.randrange(1, 10000) for i in range(1000)]\n",
        "print(closest_points_1d_divide_and_conquer(lista_1d))"
      ],
      "metadata": {
        "id": "VGesxkfHFF-n",
        "outputId": "cf378a9c-eed6-429b-9236-4da8dff52d13",
        "colab": {
          "base_uri": "https://localhost:8080/"
        }
      },
      "execution_count": 8,
      "outputs": [
        {
          "output_type": "stream",
          "name": "stdout",
          "text": [
            "(30, 31, 1)\n"
          ]
        }
      ]
    },
    {
      "cell_type": "markdown",
      "source": [
        "# Extender el algoritmo a 2D\n",
        "Para ello me voy a basar en la solución que he encontrado en la siguiente página: https://medium.com/@andriylazorenko/closest-pair-of-points-in-python-79e2409fc0b2\n",
        "\n",
        "Aquí resuelve el algoritmo para puntos con 2 dimensiones. Y el algoritmo es igual que en la ocasion anterior. Dividimos el problema en dos mitades y resolvemos. Para los puntos cercanos a la mitad volvemos a calcular la distancia entre ellos.\n",
        "\n",
        "Nuevamente la complejidad es **O(nlogn)**. \n",
        "\n",
        "Resulta interesante el siguiente articulo de como extender la solución 1D a 2D: https://en.wikipedia.org/wiki/Closest_pair_of_points_problem"
      ],
      "metadata": {
        "id": "af0NTVIAZI_A"
      }
    },
    {
      "cell_type": "code",
      "source": [
        "import math\n",
        "import random\n",
        "\n",
        "def dist(p1, p2):\n",
        "    return math.sqrt((p1[0] - p2[0]) ** 2 + (p1[1] - p2[1]) ** 2)\n",
        "\n",
        "def brute(ax):\n",
        "    mi = dist(ax[0], ax[1])\n",
        "    p1 = ax[0]\n",
        "    p2 = ax[1]\n",
        "    ln_ax = len(ax)\n",
        "    if ln_ax == 2:\n",
        "        return p1, p2, mi\n",
        "    for i in range(ln_ax-1):\n",
        "        for j in range(i + 1, ln_ax):\n",
        "            if i != 0 and j != 1:\n",
        "                d = dist(ax[i], ax[j])\n",
        "                if d < mi:  # Update min_dist and points\n",
        "                    mi = d\n",
        "                    p1, p2 = ax[i], ax[j]\n",
        "    return p1, p2, mi\n",
        "\n",
        "def closest_split_pair(p_x, p_y, delta, best_pair):\n",
        "    ln_x = len(p_x)\n",
        "    # Cogemos otra vez el punto medio\n",
        "    mx_x = p_x[ln_x // 2][0]\n",
        "    # Create a subarray of points not further than delta from\n",
        "    # midpoint on x-sorted array\n",
        "    s_y = [x for x in p_y if mx_x - delta <= x[0] <= mx_x + delta]\n",
        "    best = delta\n",
        "    ln_y = len(s_y) \n",
        "    for i in range(ln_y - 1):\n",
        "        for j in range(i+1, min(i + 7, ln_y)):\n",
        "            p, q = s_y[i], s_y[j]\n",
        "            dst = dist(p, q)\n",
        "            if dst < best:\n",
        "                best_pair = p, q\n",
        "                best = dst\n",
        "    return best_pair[0], best_pair[1], best\n",
        "\n",
        "def closest_pair(ax, ay):\n",
        "    ln_ax = len(ax)\n",
        "    if ln_ax <= 3:\n",
        "        # Aplicamos fuerza bruta para longitudes < 3\n",
        "        return brute(ax)\n",
        "    mid = ln_ax // 2  # Partimos a la mitad\n",
        "    Qx = ax[:mid]  # Dividimos por el punto anterior\n",
        "    Rx = ax[mid:]\n",
        "    # Cogemos el punto medio en el eje x\n",
        "    midpoint = ax[mid][0]  \n",
        "    Qy = list()\n",
        "    Ry = list()\n",
        "    for x in ay:  # sDividimos la lista ordenada por y con el punto medio\n",
        "        if x[0] <= midpoint:\n",
        "           Qy.append(x)\n",
        "        else:\n",
        "           Ry.append(x)\n",
        "    # Llamada recursiva por cada mitad\n",
        "    (p1, q1, mi1) = closest_pair(Qx, Qy)\n",
        "    (p2, q2, mi2) = closest_pair(Rx, Ry)\n",
        "    # Cogemos la distancia minima de cada mitad\n",
        "    if mi1 <= mi2:\n",
        "        d = mi1\n",
        "        mn = (p1, q1)\n",
        "    else:\n",
        "        d = mi2\n",
        "        mn = (p2, q2)\n",
        "    # Operamos para los puntos en el espacio alrededor del medio\n",
        "    (p3, q3, mi3) = closest_split_pair(ax, ay, d, mn)\n",
        "    # volvemos a coger la distancia minima\n",
        "    if d <= mi3:\n",
        "        return mn[0], mn[1], d\n",
        "    else:\n",
        "        return p3, q3, mi3\n",
        "\n",
        "def solution(a):\n",
        "    ax = sorted(a, key=lambda x: x[0])  # Ordenamos por x\n",
        "    ay = sorted(a, key=lambda x: x[1])  # Ordenamos por y\n",
        "    p1, p2, mi = closest_pair(ax, ay)  # Divide y venceras recursivo\n",
        "    return p1, p2, mi\n",
        "\n",
        "lst1 = [(random.randint(1, 100), random.randint(1, 100)) for i in range(10)]\n",
        "p1, p2, d = solution(lst1)\n",
        "print(f\"La distancia minima: {p1}<->{p2}: {d}\")"
      ],
      "metadata": {
        "id": "CdxH8143ZeOZ",
        "outputId": "3a29e457-dbfe-41cc-bad1-752854b14822",
        "colab": {
          "base_uri": "https://localhost:8080/"
        }
      },
      "execution_count": 9,
      "outputs": [
        {
          "output_type": "stream",
          "name": "stdout",
          "text": [
            "La distancia minima: (6, 8)<->(15, 10): 9.219544457292887\n"
          ]
        }
      ]
    }
  ]
}