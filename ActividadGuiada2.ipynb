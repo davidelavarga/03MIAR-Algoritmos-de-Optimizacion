{
  "nbformat": 4,
  "nbformat_minor": 0,
  "metadata": {
    "colab": {
      "provenance": [],
      "authorship_tag": "ABX9TyP3yhdnYNNOHHlTtfxEWxn5",
      "include_colab_link": true
    },
    "kernelspec": {
      "name": "python3",
      "display_name": "Python 3"
    },
    "language_info": {
      "name": "python"
    }
  },
  "cells": [
    {
      "cell_type": "markdown",
      "metadata": {
        "id": "view-in-github",
        "colab_type": "text"
      },
      "source": [
        "<a href=\"https://colab.research.google.com/github/davidelavarga/03MIAR-Algoritmos-de-Optimizacion/blob/main/ActividadGuiada2.ipynb\" target=\"_parent\"><img src=\"https://colab.research.google.com/assets/colab-badge.svg\" alt=\"Open In Colab\"/></a>"
      ]
    },
    {
      "cell_type": "markdown",
      "source": [
        "#AG2 - Actividad Guiada 2\n",
        "Nombre: David de la Varga <br>\n",
        "Link:   https://colab.research.google.com/drive/1IekF-fzvr4-mUSrNvqOdqYo8Hz7vvFsf?usp=sharing <br>\n",
        "Github: https://github.com/davidelavarga/03MIAR-Algoritmos-de-Optimizacion\n",
        "<br>"
      ],
      "metadata": {
        "id": "Y27moAMxRDbB"
      }
    }
  ]
}