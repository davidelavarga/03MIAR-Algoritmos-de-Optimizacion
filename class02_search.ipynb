{
  "nbformat": 4,
  "nbformat_minor": 0,
  "metadata": {
    "colab": {
      "provenance": [],
      "authorship_tag": "ABX9TyM5nECzyekyMMllhW0xkMv4",
      "include_colab_link": true
    },
    "kernelspec": {
      "name": "python3",
      "display_name": "Python 3"
    },
    "language_info": {
      "name": "python"
    }
  },
  "cells": [
    {
      "cell_type": "markdown",
      "metadata": {
        "id": "view-in-github",
        "colab_type": "text"
      },
      "source": [
        "<a href=\"https://colab.research.google.com/github/davidelavarga/03MIAR-Algoritmos-de-Optimizacion/blob/main/class02_search.ipynb\" target=\"_parent\"><img src=\"https://colab.research.google.com/assets/colab-badge.svg\" alt=\"Open In Colab\"/></a>"
      ]
    },
    {
      "cell_type": "code",
      "execution_count": 15,
      "metadata": {
        "id": "pRFqsQpc5MFS"
      },
      "outputs": [],
      "source": [
        "def f(a, b):\n",
        "  r = []\n",
        "  if len(a) > len(b):\n",
        "    b, a = a, b\n",
        "  for i in a:\n",
        "    if i in b:\n",
        "      r.append(i)\n",
        "  return r"
      ]
    },
    {
      "cell_type": "code",
      "source": [
        "a = [1,2,6,7,12,13,15]\n",
        "b = [2,3,4,7,13]\n",
        "f(a, b)"
      ],
      "metadata": {
        "colab": {
          "base_uri": "https://localhost:8080/"
        },
        "id": "Q5d_HpZN5r9G",
        "outputId": "2bd91b35-84da-4820-b65d-b38a83adc963"
      },
      "execution_count": 16,
      "outputs": [
        {
          "output_type": "stream",
          "name": "stdout",
          "text": [
            "2\n",
            "3\n",
            "4\n",
            "7\n",
            "13\n"
          ]
        },
        {
          "output_type": "execute_result",
          "data": {
            "text/plain": [
              "[2, 7, 13]"
            ]
          },
          "metadata": {},
          "execution_count": 16
        }
      ]
    }
  ]
}