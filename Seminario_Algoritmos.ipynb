{
  "cells": [
    {
      "attachments": {},
      "cell_type": "markdown",
      "metadata": {
        "colab_type": "text",
        "id": "view-in-github"
      },
      "source": [
        "<a href=\"https://colab.research.google.com/gnthub/davidelavarga/03MIAR-Algoritmos-de-Optimizacion/blob/main/Seminario_Algoritmos.ipynb\" target=\"_parent\"><img src=\"https://colab.research.google.com/assets/colab-badge.svg\" alt=\"Open In Colab\"/></a>\n"
      ]
    },
    {
      "attachments": {},
      "cell_type": "markdown",
      "metadata": {
        "id": "hVbXYX-RfPWh"
      },
      "source": [
        "# Algoritmos de optimización - Seminario<br>\n",
        "\n",
        "Nombre y Apellidos: David de la Varga del Caño <br>\n",
        "Url: https://github.com/davidelavarga/03MIAR-Algoritmos-de-Optimizacion/blob/main/Seminario_Algoritmos.ipynb<br>\n",
        "Problema:\n",
        "\n",
        "> 3.  Combinar cifras y operaciones\n",
        "\n",
        "## Descripción del problema:\n",
        "\n",
        "Disponemos de las 9 cifras del 1 al 9 (excluimos el cero) y de los 4 signos básicos de las operaciones fundamentales: suma(+), resta(-), multiplicación(\\*) y división(/). Debemos combinarlos alternativamente sin repetir ninguno de ellos para obtener una cantidad\n",
        "dada.\n",
        "\n",
        "Un ejemplo sería para obtener el 4:\n",
        "\n",
        "```\n",
        "4+2-6/3*1 = 4\n",
        "```\n",
        "\n",
        "Debe analizarse el problema para encontrar todos los valores enteros posibles planteando las siguientes cuestiones:\n",
        "\n",
        "- ¿Qué valor máximo y mínimo se pueden obtener según las condiciones del problema?\n",
        "\n",
        "  Según las condiciones del problema el máximo valor que se puede obtener es 77 y el mínimo -69.\n",
        "\n",
        "- ¿Es posible encontrar todos los valores enteros posibles entre dicho mínimo y máximo?\n",
        "  Si, es posible encontrar cada valor entero del intervalo [-69, 77]\n"
      ]
    },
    {
      "attachments": {},
      "cell_type": "markdown",
      "metadata": {
        "id": "3_-exlrTgLd-"
      },
      "source": [
        "#### (\\*)¿Cuantas posibilidades hay sin tener en cuenta las restricciones?<br>\n",
        "\n",
        "Estamos tratando un problema donde tenemos 13 elementos, 4 correspondientes a los signos de operaciones y 9 a los dígitos. No tendremos en cuenta las retricciones de orden ni repetición por lo que estamos ante un problema de variación con repetición, donde `n = 13` y `k = 9` (longitud de la expresión a construir):\n",
        "\n",
        "```\n",
        "13^9 = 10.604.499.373 posibilidades\n",
        "```\n",
        "\n",
        "**10.000 millones de posibilidades**\n",
        "\n",
        "Cabe destacar, que saltandonos las restricciones muchos de los resultados no tienen sentido, como por ejemplo dos sumas secuenciales (`++`)\n"
      ]
    },
    {
      "attachments": {},
      "cell_type": "markdown",
      "metadata": {},
      "source": [
        "#### ¿Cuantas posibilidades hay teniendo en cuenta todas las restricciones?\n",
        "\n",
        "Ahora bien, si tenemos en cuenta las restricciones, la dimensión del problema se reduce bastante, pero aún así sigue siendo enorme.\n",
        "\n",
        "Teniendo en cuenta el orden y la repetición tenemos dos frentes:\n",
        "\n",
        "1. Conteo de operaciones. Puesto que no se pueden repetir el número de posibilidades es:\n",
        "   ```\n",
        "   4! = 24\n",
        "   ```\n",
        "2. Conteo de digitos numericos. Estamos ante un problema donde tenemos `n = 9` opciones de las que elegimos `k = 5`. Es una variación sin repetición\n",
        "   ```\n",
        "   n! / (n - k)! = 9! / 4! = 15.120\n",
        "   ```\n",
        "\n",
        "Una vez sabemos el número posibilidades que tenemos en cada frente, falta combinarlos. Para ello multiplicamos ambos conteos:\n",
        "\n",
        "```\n",
        "4! * 9! / 4! = 9! = 362.880\n",
        "```\n",
        "\n",
        "Hemos reducido el problema en una magnitud considerable (~10.000 M posibilidades)\n"
      ]
    },
    {
      "attachments": {},
      "cell_type": "markdown",
      "metadata": {
        "id": "dzynfVJahHoY"
      },
      "source": [
        "#### (\\*) ¿Cual es la estructura de datos que mejor se adapta al problema? Argumentalo.(Es posible que hayas elegido una al principio y veas la necesidad de cambiar, arguentalo)\n"
      ]
    },
    {
      "attachments": {},
      "cell_type": "markdown",
      "metadata": {
        "id": "xFIJrOwKi2Ti"
      },
      "source": [
        "El algoritmo de ramificación y poda se suele representar con un arbol de búsqueda. En este caso cada nodo tiene una lista de 5 elementos candidatos a la solucion. A los cuales se les aplica una funcion de evaluacion u otra dependiendo de si es un número positivo o negativo.\n",
        "\n",
        "En caso de ser positivo se evaluará en ``x1*x2+x3/x4-x5`` y si es negativo en ``x1/x2-x3*x4+x5``\n",
        "\n",
        "Aplicaremos la poda del arbol comprobando si:\n",
        "- Si el numero objetivo es positivo, evaluaremos ``x1*x2+x3``. Si es menor que el número objetivo podamos\n",
        "- Si el numero objetivo es negativo, evaluaremos ``x1/x2-x3``. Si es mayor que el número objetivo podamos "
      ]
    },
    {
      "attachments": {},
      "cell_type": "markdown",
      "metadata": {
        "id": "7Z9U2W7bi-XS"
      },
      "source": [
        "#### Según el modelo para el espacio de soluciones<br>\n",
        "\n",
        "(\\*)¿Cual es la función objetivo?\n",
        "- ``x1*x2+x3/x4-x5`` para busquedas `>=0`\n",
        "- ``x1/x2-x3*x4+x5`` para busquedas `<0`\n",
        "\n",
        "Las restricciones estan explicadas en el apartado anterior\n",
        "\n",
        "\n",
        "(\\*)¿Es un problema de maximización o minimización?\n",
        " Se intenta minimizar el espacio de búsqueda descartando aquellas soluciones que no cumplen las restricciones"
      ]
    },
    {
      "attachments": {},
      "cell_type": "markdown",
      "metadata": {
        "id": "rlnTYgY1j6I2"
      },
      "source": [
        "#### Diseña un algoritmo para resolver el problema por fuerza bruta\n"
      ]
    },
    {
      "attachments": {},
      "cell_type": "markdown",
      "metadata": {
        "id": "70rDgxYXkC8r"
      },
      "source": [
        "En el siguiente algoritmo por fuerza bruta voy a probar todas las posibles combinaciones hasta dar con el objetivo. <br>\n",
        "Para ello me sirvo de la librería `itertools` y la función `permutations`, la cual genera todas las posibles permutaciones<br>\n",
        "de la lista que recibe como argumento.<br>\n",
        "\n",
        "> A partir de ahora, todas las funciones las nombraré con el prefijo `cyo` acrónimo de \"cifras y operaciones\"\n"
      ]
    },
    {
      "cell_type": "code",
      "execution_count": 92,
      "metadata": {},
      "outputs": [],
      "source": [
        "from time import time\n",
        "\n",
        "# Implemento un decorador para medir el tiempo de ejecucion de cada funcion\n",
        "def timer(func):\n",
        "    def wrap_func(*args, **kwargs):\n",
        "        t1 = time()\n",
        "        result = func(*args, **kwargs)\n",
        "        t2 = time()\n",
        "        print(f'Function {func.__name__!r} executed in {(t2-t1):.6f} sec')\n",
        "        return result\n",
        "    return wrap_func"
      ]
    },
    {
      "cell_type": "code",
      "execution_count": 93,
      "metadata": {
        "id": "CJb5sQ0qkENy"
      },
      "outputs": [
        {
          "name": "stdout",
          "output_type": "stream",
          "text": [
            "Function 'cyo_fuerza_bruta' executed in 0.102997 sec\n",
            "1-4+6/2*8\n"
          ]
        }
      ],
      "source": [
        "from itertools import permutations\n",
        "\n",
        "@timer\n",
        "def cyo_fuerza_bruta(number):\n",
        "    for n in list(permutations([i for i in range(1, 10)], 5)):\n",
        "        for op in list(permutations([\"+\", \"-\", \"/\", \"*\"])):\n",
        "            exp = f\"{n[0]}{op[0]}{n[1]}{op[1]}{n[2]}{op[2]}{n[3]}{op[3]}{n[4]}\"\n",
        "            try:\n",
        "                if eval(exp) == number:\n",
        "                    return exp \n",
        "            except Exception:\n",
        "                # Ignoramos cualquier error puesto que hay muchas expresiones que seran erróneas\n",
        "                pass\n",
        "\n",
        "print(cyo_fuerza_bruta(21))"
      ]
    },
    {
      "attachments": {},
      "cell_type": "markdown",
      "metadata": {
        "id": "tgrnsC2nkFa8"
      },
      "source": [
        "#### Calcula la complejidad del algoritmo por fuerza bruta\n"
      ]
    },
    {
      "attachments": {},
      "cell_type": "markdown",
      "metadata": {
        "id": "9eUd3xwckP68"
      },
      "source": [
        "Puesto que estamos iterando sobre todas las posibles permutaciones de una lista de 9 números y una lista de 4 operaciones: <br>\n",
        "- Lista de números: ``n`` <br>\n",
        "- Lista de operaciones: ``op`` <br>\n",
        "\n",
        "```\n",
        "O(n!op!)\n",
        "```"
      ]
    },
    {
      "attachments": {},
      "cell_type": "markdown",
      "metadata": {
        "id": "txbrmLmskReM"
      },
      "source": [
        "#### (\\*)Diseña un algoritmo que mejore la complejidad del algortimo por fuerza bruta. Argumenta porque crees que mejora el algoritmo por fuerza bruta\n"
      ]
    },
    {
      "attachments": {},
      "cell_type": "markdown",
      "metadata": {
        "id": "hLrVwt5QkZPD"
      },
      "source": [
        "A continuación voy a implementar un algoritmo de backtraking con ramificación y poda. Como he mencionado antes el algoritmo esta implementado como un arbol de busqueda. <br>\n",
        "La clave del algoritmo reside en que si el número que queremos calcular es:\n",
        "- Positivo (o 0) la expresión que se utilizará será: ``x1*x2+x3/x4-x5``. Donde podemos identificar dos partes de la expresión:\n",
        "    - La suma y multiplicación que permite buscar un número suficientemente alto al que podamos sumar la segunda parte de la expresión\n",
        "    - La división y la resta, aportarán una cantidad pequeño hasta llegar al objetivo\n",
        "- Negativo, sucede al inverso que en el caso anterior: ``x1/x2-x3*x4+x5``\n",
        "    - La división y la resta: obtiene un número suficientemente pequeño al cual restaremos la segunda parte de la expresión\n",
        "    - La multiplicación y la suma: la cantidad aqui obtenida será restada y al ser de magnitud mayor se convertirá en número negativo\n"
      ]
    },
    {
      "cell_type": "code",
      "execution_count": 52,
      "metadata": {
        "id": "m1eyM21Vkabg"
      },
      "outputs": [],
      "source": [
        "def cyo_eval_exp_pos(sol, n):\n",
        "    # Evalua la función contra el número positivo\n",
        "    expresion = f\"{sol[0]}*{sol[1]}+{sol[2]}/{sol[3]}-{sol[4]}\"\n",
        "    if eval(expresion) == n:\n",
        "        return expresion\n",
        "\n",
        "def cyo_eval_exp_neg(sol, n):\n",
        "    # Evalua la función contra el número negativo\n",
        "    expresion = f\"{sol[0]}/{sol[1]}-{sol[2]}*{sol[3]}+{sol[4]}\"\n",
        "    if eval(expresion) == n:\n",
        "        return expresion\n",
        "\n",
        "def cyo_promising_sol_pos(sol, n):\n",
        "        # Para números positivos, si todo lo que aumenta el numero objetivo\n",
        "        # es mayor que el numero es solución prometedora\n",
        "        return eval(f\"{sol[0]}*{sol[1]}+{sol[2]}\") > n\n",
        "\n",
        "def cyo_promising_sol_neg(sol, n):\n",
        "        # Para números negativos, si todo lo que decrementa el numero es mayor que el numero,\n",
        "        # es solucion prometedora Solo es prometedora para numeros negativos si la primera mitad \n",
        "        return eval(f\"{sol[0]}/{sol[1]}-{sol[2]}\") > n"
      ]
    },
    {
      "cell_type": "code",
      "execution_count": 78,
      "metadata": {},
      "outputs": [],
      "source": [
        "# No añado el decorador puesto que al ser recursiva llena la salida por consola\n",
        "def cyo_branching_and_pruning(number, candidate, sol=[0 for _ in range(5)], checks=[], problem_size=10, show_sol=True):\n",
        "    # Elegimos la funcion de evaluacion y promesa\n",
        "    eval_fn = cyo_eval_exp_pos\n",
        "    promising_fn = cyo_promising_sol_pos\n",
        "    if number < 0:\n",
        "        eval_fn = cyo_eval_exp_neg\n",
        "        promising_fn = cyo_promising_sol_neg\n",
        "    \n",
        "    promising = True\n",
        "    for i in range(problem_size): # Numeros del 1 al 9\n",
        "        if i not in checks:\n",
        "            sol[candidate] = i + 1\n",
        "            if candidate == 2:\n",
        "                # Comprobamos si promete cuando otenemos los 3 primeros candidatos\n",
        "                promising = promising_fn(sol, number)\n",
        "            if promising:\n",
        "                if candidate != len(sol)-1:\n",
        "                    checks.append(i)\n",
        "                    cyo_branching_and_pruning(number, candidate+1, sol, checks, show_sol=show_sol)\n",
        "                    checks.remove(i)\n",
        "                else:\n",
        "                    # Evaluamos la expresion cuando tenemos una expresion completa\n",
        "                    exp = eval_fn(sol, number)\n",
        "                    if exp and show_sol:\n",
        "                        print(exp)"
      ]
    },
    {
      "cell_type": "code",
      "execution_count": 79,
      "metadata": {},
      "outputs": [
        {
          "name": "stdout",
          "output_type": "stream",
          "text": [
            "2/1-3*7+5\n",
            "2/1-4*6+8\n",
            "2/1-6*4+8\n",
            "2/1-7*3+5\n",
            "3/1-4*6+7\n",
            "3/1-6*4+7\n",
            "4/1-3*8+6\n",
            "4/1-8*3+6\n",
            "4/2-3*7+5\n",
            "4/2-7*3+5\n",
            "5/1-3*7+2\n",
            "5/1-3*9+8\n",
            "5/1-4*7+9\n",
            "5/1-7*3+2\n",
            "5/1-7*4+9\n",
            "5/1-9*3+8\n",
            "6/1-3*8+4\n",
            "6/1-3*9+7\n",
            "6/1-4*7+8\n",
            "6/1-7*4+8\n",
            "6/1-8*3+4\n",
            "6/1-9*3+7\n",
            "6/2-3*7+4\n",
            "6/2-3*8+7\n",
            "6/2-3*9+10\n",
            "6/2-4*5+3\n",
            "6/2-5*4+3\n",
            "6/2-7*3+4\n",
            "6/2-8*3+7\n",
            "6/2-9*3+10\n",
            "6/3-2*10+4\n",
            "6/3-10*2+4\n",
            "7/1-3*9+6\n",
            "7/1-3*10+9\n",
            "7/1-4*6+3\n",
            "7/1-5*6+9\n",
            "7/1-6*4+3\n",
            "7/1-6*5+9\n",
            "7/1-9*3+6\n",
            "7/1-10*3+9\n",
            "8/1-3*9+5\n",
            "8/1-4*6+2\n",
            "8/1-4*7+6\n",
            "8/1-6*4+2\n",
            "8/1-7*4+6\n",
            "8/1-9*3+5\n",
            "8/2-4*7+10\n",
            "8/2-7*4+10\n",
            "8/4-3*6+2\n",
            "8/4-3*7+5\n",
            "8/4-6*3+2\n",
            "8/4-7*3+5\n",
            "9/1-3*10+7\n",
            "9/1-4*7+5\n",
            "9/1-5*6+7\n",
            "9/1-6*5+7\n",
            "9/1-7*4+5\n",
            "9/1-10*3+7\n",
            "9/3-4*6+7\n",
            "9/3-6*4+7\n",
            "10/2-3*8+5\n",
            "10/2-3*9+8\n",
            "10/2-4*5+1\n",
            "10/2-4*6+5\n",
            "10/2-4*7+9\n",
            "10/2-5*4+1\n",
            "10/2-6*4+5\n",
            "10/2-7*4+9\n",
            "10/2-8*3+5\n",
            "10/2-9*3+8\n",
            "10/5-3*6+2\n",
            "10/5-4*6+8\n",
            "10/5-6*3+2\n",
            "10/5-6*4+8\n"
          ]
        }
      ],
      "source": [
        "cyo_branching_and_pruning(-14, 0)"
      ]
    },
    {
      "attachments": {},
      "cell_type": "markdown",
      "metadata": {
        "id": "eGDB4K6uk1iN"
      },
      "source": [
        "#### (\\*)Calcula la complejidad del algoritmo\n"
      ]
    },
    {
      "attachments": {},
      "cell_type": "markdown",
      "metadata": {
        "id": "NhpTh_BPk1ms"
      },
      "source": [
        "El algoritmo de ramificación y poda es una mejora al algoritmo de backtraking <br>\n",
        "Bracktraking hace una busqueda exaustiva por todos los nodos del árbol por lo que su complejidad es ``O(k^n)``, inferior a la fuerza bruta,\n",
        "donde k es el número de llamadas a la función recursiva y n el número de elementos, en nuestro caso sería similar a: ``O(k^10)``\n",
        "\n",
        "Pero aplicando ramificación y poda con el criterio anteriormente descrito la complejidad se reduce "
      ]
    },
    {
      "attachments": {},
      "cell_type": "markdown",
      "metadata": {
        "id": "eTFWUJQrtGcv"
      },
      "source": [
        "#### Enumera las referencias que has utilizado(si ha sido necesario) para llevar a cabo el trabajo\n",
        "\n",
        "- https://docs.python.org/3/library/itertools.html#itertools.permutations\n",
        "- https://www.geeksforgeeks.org/timing-functions-with-decorators-python/"
      ]
    },
    {
      "attachments": {},
      "cell_type": "markdown",
      "metadata": {
        "id": "kAkDPUyRtYyH"
      },
      "source": [
        "#### Describe brevemente las lineas de como crees que es posible avanzar en el estudio del problema. Ten en cuenta incluso posibles variaciones del problema y/o variaciones al alza del tamaño\n"
      ]
    },
    {
      "attachments": {},
      "cell_type": "markdown",
      "metadata": {
        "id": "IE0uZmo-tZu-"
      },
      "source": [
        "El algoritmo propuesto está limitado a buscar una solucion de combinación de 5 numeros y 4 operaciones únicamente. Podríamos intentar mejorarlo soportando soluciones de más longitud donde de alguna forma automática se agruparan las operaciones que aumentan el número objetivo (+ y *) y por otro lado las que lo disminuyen (- y /). De esta forma podriamos aplicar las mismas restricciones para la poda con soluciones de más de 5 números.\n",
        "\n",
        "La variación más directa del problema sería utilizar un rango de números mayor, por ejemplo, del 1 al 100 y del 1 al 1000. <br>\n",
        "Con estos tamaños de entrada ver si el algorimo escala correctamente en tiempo de ejecución."
      ]
    },
    {
      "cell_type": "code",
      "execution_count": 88,
      "metadata": {},
      "outputs": [],
      "source": [
        "import time\n",
        "\n",
        "sizes = [10, 100, 500, 1000, 10000, 100000]\n",
        "times = []\n",
        "for i in sizes:\n",
        "    t1 = time.time()\n",
        "    cyo_branching_and_pruning(i, 0, problem_size=i, show_sol=False)\n",
        "    times.append(time.time() - t1)"
      ]
    },
    {
      "cell_type": "code",
      "execution_count": 90,
      "metadata": {},
      "outputs": [
        {
          "data": {
            "text/plain": [
              "[0.022991180419921875,\n",
              " 0.5750322341918945,\n",
              " 2.854004383087158,\n",
              " 5.708971977233887,\n",
              " 58.942023038864136,\n",
              " 592.6565914154053]"
            ]
          },
          "execution_count": 90,
          "metadata": {},
          "output_type": "execute_result"
        }
      ],
      "source": [
        "times"
      ]
    },
    {
      "cell_type": "code",
      "execution_count": 89,
      "metadata": {},
      "outputs": [
        {
          "data": {
            "image/png": "[encoded data removed]",
            "text/plain": [
              "<Figure size 640x480 with 1 Axes>"
            ]
          },
          "metadata": {},
          "output_type": "display_data"
        }
      ],
      "source": [
        "from matplotlib import pyplot as plt\n",
        "\n",
        "plt.plot(sizes, times)\n",
        "plt.show()"
      ]
    },
    {
      "attachments": {},
      "cell_type": "markdown",
      "metadata": {},
      "source": [
        "Podemos observar un crecimiento practicamente lineal hasta tamaños de 100.000 elementos."
      ]
    }
  ],
  "metadata": {
    "colab": {
      "include_colab_link": true,
      "provenance": []
    },
    "kernelspec": {
      "display_name": "base",
      "language": "python",
      "name": "python3"
    },
    "language_info": {
      "codemirror_mode": {
        "name": "ipython",
        "version": 3
      },
      "file_extension": ".py",
      "mimetype": "text/x-python",
      "name": "python",
      "nbconvert_exporter": "python",
      "pygments_lexer": "ipython3",
      "version": "3.9.13"
    },
    "vscode": {
      "interpreter": {
        "hash": "8bde6be6b6f9cc07bdf381d8b3d4e6d9a383c7622dea031c466a61546c04d978"
      }
    }
  },
  "nbformat": 4,
  "nbformat_minor": 0
}
